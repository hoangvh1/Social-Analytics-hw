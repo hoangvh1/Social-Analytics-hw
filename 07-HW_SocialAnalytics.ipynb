{
 "cells": [
  {
   "cell_type": "code",
   "execution_count": 13,
   "metadata": {
    "collapsed": true
   },
   "outputs": [],
   "source": [
    "# Dependencies\n",
    "import numpy as np\n",
    "import pandas as pd\n",
    "import matplotlib.pyplot as plt\n",
    "import json\n",
    "import tweepy\n",
    "import time\n",
    "import seaborn as sns\n",
    "\n",
    "# Initialize Sentiment Analyzer\n",
    "from vaderSentiment.vaderSentiment import SentimentIntensityAnalyzer\n",
    "analyzer = SentimentIntensityAnalyzer()\n",
    "\n",
    "# Twitter API Keys\n",
    "consumer_key = \n",
    "consumer_secret = \n",
    "access_token = \n",
    "access_token_secret = \n",
    "\n",
    "# Setup Tweepy API Authentication\n",
    "auth = tweepy.OAuthHandler(consumer_key, consumer_secret)\n",
    "auth.set_access_token(access_token, access_token_secret)\n",
    "api = tweepy.API(auth, parser=tweepy.parsers.JSONParser())"
   ]
  },
  {
   "cell_type": "code",
   "execution_count": 186,
   "metadata": {
    "collapsed": true
   },
   "outputs": [],
   "source": [
    "# Target Account\n",
    "target_user = ('@BBC', '@CBS', '@CNN', '@Fox', '@New York times')\n",
    "\n",
    "# Variables for holding sentiments\n",
    "sentiments = []\n",
    "\n",
    "# Loop through all target users\n",
    "for target in target_user:\n",
    "\n",
    "    # Counter\n",
    "    counter = 1\n",
    "\n",
    "    # Loop through 100 times\n",
    "    for x in range(5):\n",
    "\n",
    "        # Run search around each tweet\n",
    "        public_tweets = api.user_timeline(target)\n",
    "\n",
    "        # Loop through all tweets\n",
    "        for tweet in public_tweets:\n",
    "\n",
    "            # Run Vader Analysis on each tweet\n",
    "            compound = analyzer.polarity_scores(tweet[\"text\"])[\"compound\"]\n",
    "            pos = analyzer.polarity_scores(tweet[\"text\"])[\"pos\"]\n",
    "            neu = analyzer.polarity_scores(tweet[\"text\"])[\"neu\"]\n",
    "            neg = analyzer.polarity_scores(tweet[\"text\"])[\"neg\"]\n",
    "\n",
    "            # Add sentiments for each tweet into an array\n",
    "            sentiments.append({\"Date\": tweet[\"created_at\"], \n",
    "                                'User': target,\n",
    "                               \"Compound\": compound,\n",
    "                               \"Positive\": pos,\n",
    "                               \"Negative\": neu,\n",
    "                               \"Neutral\": neg,\n",
    "                               \"Tweets Ago\": counter})\n",
    "        \n",
    "            # Add to counter \n",
    "            counter = counter + 1\n",
    "        "
   ]
  },
  {
   "cell_type": "code",
   "execution_count": 205,
   "metadata": {},
   "outputs": [
    {
     "data": {
      "text/html": [
       "<div>\n",
       "<style>\n",
       "    .dataframe thead tr:only-child th {\n",
       "        text-align: right;\n",
       "    }\n",
       "\n",
       "    .dataframe thead th {\n",
       "        text-align: left;\n",
       "    }\n",
       "\n",
       "    .dataframe tbody tr th {\n",
       "        vertical-align: top;\n",
       "    }\n",
       "</style>\n",
       "<table border=\"1\" class=\"dataframe\">\n",
       "  <thead>\n",
       "    <tr style=\"text-align: right;\">\n",
       "      <th></th>\n",
       "      <th>Compound</th>\n",
       "      <th>Date</th>\n",
       "      <th>Negative</th>\n",
       "      <th>Neutral</th>\n",
       "      <th>Positive</th>\n",
       "      <th>Tweets Ago</th>\n",
       "      <th>User</th>\n",
       "    </tr>\n",
       "  </thead>\n",
       "  <tbody>\n",
       "    <tr>\n",
       "      <th>0</th>\n",
       "      <td>-0.5423</td>\n",
       "      <td>Sun Dec 24 21:43:10 +0000 2017</td>\n",
       "      <td>0.800</td>\n",
       "      <td>0.200</td>\n",
       "      <td>0.000</td>\n",
       "      <td>1</td>\n",
       "      <td>@BBC</td>\n",
       "    </tr>\n",
       "    <tr>\n",
       "      <th>1</th>\n",
       "      <td>-0.3182</td>\n",
       "      <td>Sun Dec 24 20:03:04 +0000 2017</td>\n",
       "      <td>0.909</td>\n",
       "      <td>0.091</td>\n",
       "      <td>0.000</td>\n",
       "      <td>2</td>\n",
       "      <td>@BBC</td>\n",
       "    </tr>\n",
       "    <tr>\n",
       "      <th>2</th>\n",
       "      <td>0.3182</td>\n",
       "      <td>Sun Dec 24 19:33:04 +0000 2017</td>\n",
       "      <td>0.881</td>\n",
       "      <td>0.000</td>\n",
       "      <td>0.119</td>\n",
       "      <td>3</td>\n",
       "      <td>@BBC</td>\n",
       "    </tr>\n",
       "    <tr>\n",
       "      <th>3</th>\n",
       "      <td>0.7845</td>\n",
       "      <td>Sun Dec 24 19:03:04 +0000 2017</td>\n",
       "      <td>0.622</td>\n",
       "      <td>0.000</td>\n",
       "      <td>0.378</td>\n",
       "      <td>4</td>\n",
       "      <td>@BBC</td>\n",
       "    </tr>\n",
       "    <tr>\n",
       "      <th>4</th>\n",
       "      <td>0.8655</td>\n",
       "      <td>Sun Dec 24 18:57:04 +0000 2017</td>\n",
       "      <td>0.508</td>\n",
       "      <td>0.000</td>\n",
       "      <td>0.492</td>\n",
       "      <td>5</td>\n",
       "      <td>@BBC</td>\n",
       "    </tr>\n",
       "  </tbody>\n",
       "</table>\n",
       "</div>"
      ],
      "text/plain": [
       "   Compound                            Date  Negative  Neutral  Positive  \\\n",
       "0   -0.5423  Sun Dec 24 21:43:10 +0000 2017     0.800    0.200     0.000   \n",
       "1   -0.3182  Sun Dec 24 20:03:04 +0000 2017     0.909    0.091     0.000   \n",
       "2    0.3182  Sun Dec 24 19:33:04 +0000 2017     0.881    0.000     0.119   \n",
       "3    0.7845  Sun Dec 24 19:03:04 +0000 2017     0.622    0.000     0.378   \n",
       "4    0.8655  Sun Dec 24 18:57:04 +0000 2017     0.508    0.000     0.492   \n",
       "\n",
       "   Tweets Ago  User  \n",
       "0           1  @BBC  \n",
       "1           2  @BBC  \n",
       "2           3  @BBC  \n",
       "3           4  @BBC  \n",
       "4           5  @BBC  "
      ]
     },
     "execution_count": 205,
     "metadata": {},
     "output_type": "execute_result"
    }
   ],
   "source": [
    "# Convert sentiments to DataFrame\n",
    "sentiments_pd = pd.DataFrame.from_dict(sentiments)\n",
    "sentiments_pd.head()"
   ]
  },
  {
   "cell_type": "code",
   "execution_count": 257,
   "metadata": {},
   "outputs": [
    {
     "data": {
      "text/plain": [
       "<matplotlib.figure.Figure at 0x1dd07ebbc50>"
      ]
     },
     "metadata": {},
     "output_type": "display_data"
    },
    {
     "data": {
      "image/png": "[encoded data removed]",
      "text/plain": [
       "<matplotlib.figure.Figure at 0x1dd0929a2e8>"
      ]
     },
     "metadata": {},
     "output_type": "display_data"
    }
   ],
   "source": [
    "# Create plot\n",
    "plt.clf()\n",
    "from matplotlib.artist import setp\n",
    "\n",
    "#Convert Date to datetime and sort\n",
    "sentiments_pd['Date'] = pd.to_datetime(sentiments_pd['Date'])\n",
    "sentiments_pd = sentiments_pd.sort_values(by=['Date'])\n",
    "\n",
    "sns.set(style='ticks')\n",
    "\n",
    "np.random.seed(0)\n",
    "N = len(sentiments_pd['Compound'])\n",
    "_users= ['@BBC', '@CBS', '@CNN', '@Fox', '@New York times']\n",
    "df = pd.DataFrame({\"Time\": sentiments_pd['Date'],\n",
    "                   \"Tweet Polarity\": sentiments_pd[\"Compound\"],\n",
    "                   \"News\" : np.random.choice(_users,size = N)})\n",
    "\n",
    "fg = sns.FacetGrid(data=df, hue='News', hue_order=_users, aspect=1.61)\n",
    "fg.map(plt.scatter, 'Time', 'Tweet Polarity').add_legend()\n",
    "plt.xticks(rotation=90)\n",
    "plt.ylim(-1, 1)\n",
    "plt.xlim('2017-12-09','2017-12-27')\n",
    "plt.title(\"Sentiment Analysis of Tweets (%s) for %s\" % (time.strftime(\"%x\"), target_user))\n",
    "plt.show()\n"
   ]
  },
  {
   "cell_type": "code",
   "execution_count": 258,
   "metadata": {
    "collapsed": true
   },
   "outputs": [],
   "source": [
    "# Saves an image of our chart so that we can view it in a folder\n",
    "fg.savefig(\"Sentiment Analysis of Tweets.png\")"
   ]
  },
  {
   "cell_type": "code",
   "execution_count": 260,
   "metadata": {
    "scrolled": true
   },
   "outputs": [
    {
     "data": {
      "text/plain": [
       "<matplotlib.figure.Figure at 0x1dd079e34a8>"
      ]
     },
     "metadata": {},
     "output_type": "display_data"
    },
    {
     "data": {
      "image/png": "[encoded data removed]",
      "text/plain": [
       "<matplotlib.figure.Figure at 0x1dd0816e0f0>"
      ]
     },
     "metadata": {},
     "output_type": "display_data"
    }
   ],
   "source": [
    "#Create a bar plot visualizing the _overall_ sentiments of the last 100 tweets from each organization\n",
    "## Groupby User\n",
    "plt.clf()\n",
    "avg_compound = sentiments_pd.groupby('User').mean()['Compound']\n",
    "\n",
    "##Convert list of average compound to DataFrame\n",
    "avg_compound_df = pd.DataFrame({'': avg_compound})\n",
    "\n",
    "## Plot\n",
    "ax=avg_compound_df.plot(kind='bar', legend=False, width=0.75, figsize=(8,6), color=[plt.cm.Set1(np.arange(len(df)))])\n",
    "plt.ylim(-0.5, 1)\n",
    "plt.ylabel(\"Tweet Polarity\")\n",
    "plt.xlabel(\"\")\n",
    "plt.title(\"Overall Sentiments Based on Twitter (%s)\" % time.strftime(\"%x\"))\n",
    "plt.hlines(0, -1, 10, alpha=0.25)\n",
    "plt.show()"
   ]
  },
  {
   "cell_type": "code",
   "execution_count": 261,
   "metadata": {
    "collapsed": true
   },
   "outputs": [],
   "source": [
    "# Saves an image of our chart so that we can view it in a folder\n",
    "fig = ax.get_figure()\n",
    "fig.savefig(\"Overall Sentiment.png\")"
   ]
  },
  {
   "cell_type": "code",
   "execution_count": 256,
   "metadata": {
    "collapsed": true
   },
   "outputs": [],
   "source": [
    "#Export the data in the DataFrame into a CSV file\n",
    "sentiments_pd.to_csv(\"News-Tweet-Sentiments.csv\")"
   ]
  },
  {
   "cell_type": "code",
   "execution_count": null,
   "metadata": {
    "collapsed": true
   },
   "outputs": [],
   "source": []
  }
 ],
 "metadata": {
  "kernelspec": {
   "display_name": "Python [default]",
   "language": "python",
   "name": "python3"
  },
  "language_info": {
   "codemirror_mode": {
    "name": "ipython",
    "version": 3
   },
   "file_extension": ".py",
   "mimetype": "text/x-python",
   "name": "python",
   "nbconvert_exporter": "python",
   "pygments_lexer": "ipython3",
   "version": "3.6.3"
  }
 },
 "nbformat": 4,
 "nbformat_minor": 2
}
